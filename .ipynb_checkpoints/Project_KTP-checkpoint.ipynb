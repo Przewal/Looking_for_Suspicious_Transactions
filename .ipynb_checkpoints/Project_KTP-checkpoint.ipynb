{
 "cells": [
  {
   "cell_type": "markdown",
   "id": "a2335760-eeef-474d-b752-8c93bfeb2aa4",
   "metadata": {},
   "source": [
    "In this project, we use the learnings from week-3, week-4 and week-5 to evaluate the performance among various self-ideated portfolios and compare them against the larger market (S&P TSX 60 Index) following this, we use Monte Carlo Simulation to calculate the expected portfolio returns.\n",
    "\n",
    "The historical prices for the tickers in the portfolio are extracted using APIs.\n",
    "\n",
    "The goal is to determine which portfolio is performing the best across multiple areas: Volatility, Returns, Risk, and Sharpe ratios. This quantitative analysis will have the following steps:\n",
    "\n",
    "* Performance Analysis\n",
    "* Risk Analysis\n",
    "* Rolling Statistics\n",
    "* Sharpe Ratios\n",
    "\n",
    "The second task is to develop a planning tool that will use the fetched historical closing prices for portfolios, then run Monte Carlo simulations to project the portfolio performance at 30 years (Cumulative Portfolio Return Trajectories). We then use the Monte Carlo data to calculate the expected portfolio returns given a specific initial investment amount."
   ]
  },
  {
   "cell_type": "code",
   "execution_count": null,
   "id": "34a45d3f-a592-4a4a-83de-5772f11b4bcc",
   "metadata": {},
   "outputs": [],
   "source": [
    "# Initial imports\n",
    "import os\n",
    "import requests\n",
    "import json\n",
    "import pandas as pd\n",
    "import numpy as np\n",
    "import matplotlib.pyplot as plt\n",
    "import seaborn as sns\n",
    "from dotenv import load_dotenv\n",
    "from MCForecastTools import MCSimulation\n",
    "\n",
    "%matplotlib inline"
   ]
  }
 ],
 "metadata": {
  "kernelspec": {
   "display_name": "Python 3 (ipykernel)",
   "language": "python",
   "name": "python3"
  },
  "language_info": {
   "codemirror_mode": {
    "name": "ipython",
    "version": 3
   },
   "file_extension": ".py",
   "mimetype": "text/x-python",
   "name": "python",
   "nbconvert_exporter": "python",
   "pygments_lexer": "ipython3",
   "version": "3.10.12"
  }
 },
 "nbformat": 4,
 "nbformat_minor": 5
}
